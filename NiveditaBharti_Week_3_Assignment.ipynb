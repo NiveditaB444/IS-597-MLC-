{
  "nbformat": 4,
  "nbformat_minor": 0,
  "metadata": {
    "colab": {
      "provenance": [],
      "authorship_tag": "ABX9TyN2M8MycAsppKAUHfEt0Qut",
      "include_colab_link": true
    },
    "kernelspec": {
      "name": "python3",
      "display_name": "Python 3"
    },
    "language_info": {
      "name": "python"
    }
  },
  "cells": [
    {
      "cell_type": "markdown",
      "metadata": {
        "id": "view-in-github",
        "colab_type": "text"
      },
      "source": [
        "<a href=\"https://colab.research.google.com/github/NiveditaB444/IS-597-MLC-/blob/main/NiveditaBharti_Week_3_Assignment.ipynb\" target=\"_parent\"><img src=\"https://colab.research.google.com/assets/colab-badge.svg\" alt=\"Open In Colab\"/></a>"
      ]
    },
    {
      "cell_type": "code",
      "execution_count": 2,
      "metadata": {
        "colab": {
          "base_uri": "https://localhost:8080/",
          "height": 35
        },
        "collapsed": true,
        "id": "yOiOsa3dh7yv",
        "outputId": "43cdcb35-9d9e-409a-f208-4422fb159733"
      },
      "outputs": [
        {
          "output_type": "execute_result",
          "data": {
            "text/plain": [
              "'1.26.4'"
            ],
            "application/vnd.google.colaboratory.intrinsic+json": {
              "type": "string"
            }
          },
          "metadata": {},
          "execution_count": 2
        }
      ],
      "source": [
        "import numpy as np #Importing numpy\n",
        "np.__version__ #Verifying the version importedd"
      ]
    },
    {
      "cell_type": "code",
      "source": [
        "delivery_times = np.random.randint(30, 121, size=100) # 1D array for delivery times (100 random int)\n",
        "delivery_times"
      ],
      "metadata": {
        "colab": {
          "base_uri": "https://localhost:8080/"
        },
        "collapsed": true,
        "id": "rJ5OrlNmiOwr",
        "outputId": "717b13f8-f5f9-4c14-816d-fcc3e16042c8"
      },
      "execution_count": 4,
      "outputs": [
        {
          "output_type": "execute_result",
          "data": {
            "text/plain": [
              "array([112, 117,  40,  60,  77,  36, 103,  64,  40,  45,  55,  47, 100,\n",
              "       118, 117,  56,  75,  77,  98, 104,  71,  95,  75, 102, 117,  51,\n",
              "        75,  85,  43, 111,  77,  99,  95,  45,  56,  82,  97, 103,  58,\n",
              "        90,  98,  58, 118,  84, 106,  76, 115,  58, 101,  42,  95, 115,\n",
              "       117,  98,  39,  94, 102,  46,  98, 104,  74, 100,  67,  52,  69,\n",
              "        66, 103,  82,  52,  73,  31, 104, 114,  34,  47,  60,  38,  43,\n",
              "        41, 107, 103, 116,  56,  60, 103,  75,  73,  57, 105,  55,  65,\n",
              "        58,  62, 110,  74,  45,  31,  88,  38,  53])"
            ]
          },
          "metadata": {},
          "execution_count": 4
        }
      ]
    },
    {
      "cell_type": "code",
      "source": [
        "package_weights = np.round(np.random.uniform(0.5, 10.0, size=100), 2) # 1D array for package wegihts"
      ],
      "metadata": {
        "colab": {
          "base_uri": "https://localhost:8080/"
        },
        "collapsed": true,
        "id": "0VzKjIbBijwK",
        "outputId": "99e86c96-aebb-4ced-c882-a696fbdd1f24"
      },
      "execution_count": 5,
      "outputs": [
        {
          "output_type": "execute_result",
          "data": {
            "text/plain": [
              "array([4.38, 2.82, 8.01, 5.18, 8.25, 2.39, 3.75, 0.56, 9.96, 2.38, 1.28,\n",
              "       6.74, 7.49, 6.98, 1.42, 5.88, 9.28, 5.47, 8.96, 2.66, 8.07, 0.96,\n",
              "       0.5 , 8.6 , 1.94, 8.39, 2.75, 1.53, 2.18, 5.87, 8.44, 9.71, 1.02,\n",
              "       2.92, 2.43, 3.76, 8.71, 1.52, 8.97, 1.11, 7.68, 2.19, 6.99, 8.26,\n",
              "       2.1 , 8.94, 8.59, 2.04, 7.8 , 3.68, 6.52, 6.49, 9.4 , 3.64, 9.14,\n",
              "       7.13, 8.3 , 6.53, 7.06, 2.77, 3.88, 7.95, 5.15, 0.79, 6.01, 4.29,\n",
              "       4.05, 3.97, 7.09, 9.14, 7.62, 0.63, 2.57, 7.73, 5.22, 3.08, 7.41,\n",
              "       4.83, 9.31, 9.93, 3.31, 6.93, 3.68, 7.44, 6.68, 1.41, 4.73, 3.75,\n",
              "       3.57, 2.48, 1.56, 5.38, 4.19, 9.81, 4.39, 4.46, 9.25, 1.64, 0.81,\n",
              "       2.29])"
            ]
          },
          "metadata": {},
          "execution_count": 5
        }
      ]
    },
    {
      "cell_type": "code",
      "source": [
        "data= np.column_stack((delivery_times.astype(int), package_weights)) #creating 2D array\n",
        "print(data)"
      ],
      "metadata": {
        "colab": {
          "base_uri": "https://localhost:8080/"
        },
        "collapsed": true,
        "id": "9_Zff_WBjL9n",
        "outputId": "f1374933-95e5-43e0-cfc2-d4bb1748e5e1"
      },
      "execution_count": 25,
      "outputs": [
        {
          "output_type": "stream",
          "name": "stdout",
          "text": [
            "[[112.     4.38]\n",
            " [117.     2.82]\n",
            " [ 40.     8.01]\n",
            " [ 60.     5.18]\n",
            " [ 77.     8.25]\n",
            " [ 36.     2.39]\n",
            " [103.     3.75]\n",
            " [ 64.     0.56]\n",
            " [ 40.     9.96]\n",
            " [ 45.     2.38]\n",
            " [ 55.     1.28]\n",
            " [ 47.     6.74]\n",
            " [100.     7.49]\n",
            " [118.     6.98]\n",
            " [117.     1.42]\n",
            " [ 56.     5.88]\n",
            " [ 75.     9.28]\n",
            " [ 77.     5.47]\n",
            " [ 98.     8.96]\n",
            " [104.     2.66]\n",
            " [ 71.     8.07]\n",
            " [ 95.     0.96]\n",
            " [ 75.     0.5 ]\n",
            " [102.     8.6 ]\n",
            " [117.     1.94]\n",
            " [ 51.     8.39]\n",
            " [ 75.     2.75]\n",
            " [ 85.     1.53]\n",
            " [ 43.     2.18]\n",
            " [111.     5.87]\n",
            " [ 77.     8.44]\n",
            " [ 99.     9.71]\n",
            " [ 95.     1.02]\n",
            " [ 45.     2.92]\n",
            " [ 56.     2.43]\n",
            " [ 82.     3.76]\n",
            " [ 97.     8.71]\n",
            " [103.     1.52]\n",
            " [ 58.     8.97]\n",
            " [ 90.     1.11]\n",
            " [ 98.     7.68]\n",
            " [ 58.     2.19]\n",
            " [118.     6.99]\n",
            " [ 84.     8.26]\n",
            " [106.     2.1 ]\n",
            " [ 76.     8.94]\n",
            " [115.     8.59]\n",
            " [ 58.     2.04]\n",
            " [101.     7.8 ]\n",
            " [ 42.     3.68]\n",
            " [ 95.     6.52]\n",
            " [115.     6.49]\n",
            " [117.     9.4 ]\n",
            " [ 98.     3.64]\n",
            " [ 39.     9.14]\n",
            " [ 94.     7.13]\n",
            " [102.     8.3 ]\n",
            " [ 46.     6.53]\n",
            " [ 98.     7.06]\n",
            " [104.     2.77]\n",
            " [ 74.     3.88]\n",
            " [100.     7.95]\n",
            " [ 67.     5.15]\n",
            " [ 52.     0.79]\n",
            " [ 69.     6.01]\n",
            " [ 66.     4.29]\n",
            " [103.     4.05]\n",
            " [ 82.     3.97]\n",
            " [ 52.     7.09]\n",
            " [ 73.     9.14]\n",
            " [ 31.     7.62]\n",
            " [104.     0.63]\n",
            " [114.     2.57]\n",
            " [ 34.     7.73]\n",
            " [ 47.     5.22]\n",
            " [ 60.     3.08]\n",
            " [ 38.     7.41]\n",
            " [ 43.     4.83]\n",
            " [ 41.     9.31]\n",
            " [107.     9.93]\n",
            " [103.     3.31]\n",
            " [116.     6.93]\n",
            " [ 56.     3.68]\n",
            " [ 60.     7.44]\n",
            " [103.     6.68]\n",
            " [ 75.     1.41]\n",
            " [ 73.     4.73]\n",
            " [ 57.     3.75]\n",
            " [105.     3.57]\n",
            " [ 55.     2.48]\n",
            " [ 65.     1.56]\n",
            " [ 58.     5.38]\n",
            " [ 62.     4.19]\n",
            " [110.     9.81]\n",
            " [ 74.     4.39]\n",
            " [ 45.     4.46]\n",
            " [ 31.     9.25]\n",
            " [ 88.     1.64]\n",
            " [ 38.     0.81]\n",
            " [ 53.     2.29]]\n"
          ]
        }
      ]
    },
    {
      "cell_type": "markdown",
      "source": [
        "#TASK 2\n"
      ],
      "metadata": {
        "id": "CD_-obCdk6TI"
      }
    },
    {
      "cell_type": "code",
      "source": [
        "mean_delivery = np.mean(delivery_times) #Mean, median, std delivery, max delivery for delivery times array\n",
        "median_delivery = np.median(delivery_times)\n",
        "standard_delivery = np.std(delivery_times)\n",
        "max_delivery = np.max(delivery_times)\n",
        "mean_delivery, median_delivery, standard_delivery, max_delivery"
      ],
      "metadata": {
        "colab": {
          "base_uri": "https://localhost:8080/"
        },
        "collapsed": true,
        "id": "3kzldyIGk9Ac",
        "outputId": "25529ed8-ed69-4fd2-b4de-4fc69394796f"
      },
      "execution_count": 14,
      "outputs": [
        {
          "output_type": "execute_result",
          "data": {
            "text/plain": [
              "(77.16, 75.0, 26.158639108332835, 118)"
            ]
          },
          "metadata": {},
          "execution_count": 14
        }
      ]
    },
    {
      "cell_type": "code",
      "source": [
        "mean_weight = np.mean(package_weights) #mean, minimum, range of weights for package weights array\n",
        "min_weight = np.min(package_weights)\n",
        "range_weight = np.ptp(package_weights)\n",
        "mean_weight, min_weight, range_weight"
      ],
      "metadata": {
        "colab": {
          "base_uri": "https://localhost:8080/"
        },
        "collapsed": true,
        "id": "r9A6-yxQlWlL",
        "outputId": "ac2ee942-8543-46fd-ce88-ea48a83dc341"
      },
      "execution_count": 16,
      "outputs": [
        {
          "output_type": "execute_result",
          "data": {
            "text/plain": [
              "(5.168799999999999, 0.5, 9.46)"
            ]
          },
          "metadata": {},
          "execution_count": 16
        }
      ]
    },
    {
      "cell_type": "code",
      "source": [
        "MoreThan90 = np.sum(delivery_times > 90)\n",
        "MoreThan90"
      ],
      "metadata": {
        "colab": {
          "base_uri": "https://localhost:8080/"
        },
        "collapsed": true,
        "id": "wG2BO9bulfeQ",
        "outputId": "55e8788f-b367-4424-8f5e-18c890a36b55"
      },
      "execution_count": 17,
      "outputs": [
        {
          "output_type": "execute_result",
          "data": {
            "text/plain": [
              "39"
            ]
          },
          "metadata": {},
          "execution_count": 17
        }
      ]
    },
    {
      "cell_type": "markdown",
      "source": [
        "#Task 3\n"
      ],
      "metadata": {
        "id": "8_TFnfvxmIKS"
      }
    },
    {
      "cell_type": "code",
      "source": [
        "heavy_packages = data[data[:, 1] > 5] # New array for packages>5kg\n",
        "heavy_fast_count = np.sum(heavy_packages[:, 0] <= 60) # No. of deliveries from heavy packages where delivery time<=60\n",
        "heavy_packages, heavy_fast_count\n"
      ],
      "metadata": {
        "colab": {
          "base_uri": "https://localhost:8080/"
        },
        "collapsed": true,
        "id": "NOo06VyymKz3",
        "outputId": "a6d3e98a-8cda-4f1b-a818-e0199bde9eab"
      },
      "execution_count": 26,
      "outputs": [
        {
          "output_type": "execute_result",
          "data": {
            "text/plain": [
              "(array([[ 40.  ,   8.01],\n",
              "        [ 60.  ,   5.18],\n",
              "        [ 77.  ,   8.25],\n",
              "        [ 40.  ,   9.96],\n",
              "        [ 47.  ,   6.74],\n",
              "        [100.  ,   7.49],\n",
              "        [118.  ,   6.98],\n",
              "        [ 56.  ,   5.88],\n",
              "        [ 75.  ,   9.28],\n",
              "        [ 77.  ,   5.47],\n",
              "        [ 98.  ,   8.96],\n",
              "        [ 71.  ,   8.07],\n",
              "        [102.  ,   8.6 ],\n",
              "        [ 51.  ,   8.39],\n",
              "        [111.  ,   5.87],\n",
              "        [ 77.  ,   8.44],\n",
              "        [ 99.  ,   9.71],\n",
              "        [ 97.  ,   8.71],\n",
              "        [ 58.  ,   8.97],\n",
              "        [ 98.  ,   7.68],\n",
              "        [118.  ,   6.99],\n",
              "        [ 84.  ,   8.26],\n",
              "        [ 76.  ,   8.94],\n",
              "        [115.  ,   8.59],\n",
              "        [101.  ,   7.8 ],\n",
              "        [ 95.  ,   6.52],\n",
              "        [115.  ,   6.49],\n",
              "        [117.  ,   9.4 ],\n",
              "        [ 39.  ,   9.14],\n",
              "        [ 94.  ,   7.13],\n",
              "        [102.  ,   8.3 ],\n",
              "        [ 46.  ,   6.53],\n",
              "        [ 98.  ,   7.06],\n",
              "        [100.  ,   7.95],\n",
              "        [ 67.  ,   5.15],\n",
              "        [ 69.  ,   6.01],\n",
              "        [ 52.  ,   7.09],\n",
              "        [ 73.  ,   9.14],\n",
              "        [ 31.  ,   7.62],\n",
              "        [ 34.  ,   7.73],\n",
              "        [ 47.  ,   5.22],\n",
              "        [ 38.  ,   7.41],\n",
              "        [ 41.  ,   9.31],\n",
              "        [107.  ,   9.93],\n",
              "        [116.  ,   6.93],\n",
              "        [ 60.  ,   7.44],\n",
              "        [103.  ,   6.68],\n",
              "        [ 58.  ,   5.38],\n",
              "        [110.  ,   9.81],\n",
              "        [ 31.  ,   9.25]]),\n",
              " 18)"
            ]
          },
          "metadata": {},
          "execution_count": 26
        }
      ]
    },
    {
      "cell_type": "markdown",
      "source": [
        "#Task 4\n"
      ],
      "metadata": {
        "id": "3zw1aDqjnHA1"
      }
    },
    {
      "cell_type": "code",
      "source": [
        "min_time, max_time = np.min(delivery_times), np.max(delivery_times)\n",
        "norm_delivery_times = (delivery_times - min_time) / (max_time - min_time) #Normalization of delivery times\n",
        "logistics_data = np.column_stack((data, norm_delivery_times))  # Adding the normalized values as a third column in the data\n",
        "Sorted_Data = data[np.argsort(data[:, 1])[::-1]]\n",
        "Sorted_Data\n"
      ],
      "metadata": {
        "colab": {
          "base_uri": "https://localhost:8080/"
        },
        "collapsed": true,
        "id": "5iSfIo01nKlu",
        "outputId": "27127945-2320-43c8-ec8d-1e9967c74bf7"
      },
      "execution_count": 28,
      "outputs": [
        {
          "output_type": "execute_result",
          "data": {
            "text/plain": [
              "array([[ 40.  ,   9.96],\n",
              "       [107.  ,   9.93],\n",
              "       [110.  ,   9.81],\n",
              "       [ 99.  ,   9.71],\n",
              "       [117.  ,   9.4 ],\n",
              "       [ 41.  ,   9.31],\n",
              "       [ 75.  ,   9.28],\n",
              "       [ 31.  ,   9.25],\n",
              "       [ 39.  ,   9.14],\n",
              "       [ 73.  ,   9.14],\n",
              "       [ 58.  ,   8.97],\n",
              "       [ 98.  ,   8.96],\n",
              "       [ 76.  ,   8.94],\n",
              "       [ 97.  ,   8.71],\n",
              "       [102.  ,   8.6 ],\n",
              "       [115.  ,   8.59],\n",
              "       [ 77.  ,   8.44],\n",
              "       [ 51.  ,   8.39],\n",
              "       [102.  ,   8.3 ],\n",
              "       [ 84.  ,   8.26],\n",
              "       [ 77.  ,   8.25],\n",
              "       [ 71.  ,   8.07],\n",
              "       [ 40.  ,   8.01],\n",
              "       [100.  ,   7.95],\n",
              "       [101.  ,   7.8 ],\n",
              "       [ 34.  ,   7.73],\n",
              "       [ 98.  ,   7.68],\n",
              "       [ 31.  ,   7.62],\n",
              "       [100.  ,   7.49],\n",
              "       [ 60.  ,   7.44],\n",
              "       [ 38.  ,   7.41],\n",
              "       [ 94.  ,   7.13],\n",
              "       [ 52.  ,   7.09],\n",
              "       [ 98.  ,   7.06],\n",
              "       [118.  ,   6.99],\n",
              "       [118.  ,   6.98],\n",
              "       [116.  ,   6.93],\n",
              "       [ 47.  ,   6.74],\n",
              "       [103.  ,   6.68],\n",
              "       [ 46.  ,   6.53],\n",
              "       [ 95.  ,   6.52],\n",
              "       [115.  ,   6.49],\n",
              "       [ 69.  ,   6.01],\n",
              "       [ 56.  ,   5.88],\n",
              "       [111.  ,   5.87],\n",
              "       [ 77.  ,   5.47],\n",
              "       [ 58.  ,   5.38],\n",
              "       [ 47.  ,   5.22],\n",
              "       [ 60.  ,   5.18],\n",
              "       [ 67.  ,   5.15],\n",
              "       [ 43.  ,   4.83],\n",
              "       [ 73.  ,   4.73],\n",
              "       [ 45.  ,   4.46],\n",
              "       [ 74.  ,   4.39],\n",
              "       [112.  ,   4.38],\n",
              "       [ 66.  ,   4.29],\n",
              "       [ 62.  ,   4.19],\n",
              "       [103.  ,   4.05],\n",
              "       [ 82.  ,   3.97],\n",
              "       [ 74.  ,   3.88],\n",
              "       [ 82.  ,   3.76],\n",
              "       [ 57.  ,   3.75],\n",
              "       [103.  ,   3.75],\n",
              "       [ 42.  ,   3.68],\n",
              "       [ 56.  ,   3.68],\n",
              "       [ 98.  ,   3.64],\n",
              "       [105.  ,   3.57],\n",
              "       [103.  ,   3.31],\n",
              "       [ 60.  ,   3.08],\n",
              "       [ 45.  ,   2.92],\n",
              "       [117.  ,   2.82],\n",
              "       [104.  ,   2.77],\n",
              "       [ 75.  ,   2.75],\n",
              "       [104.  ,   2.66],\n",
              "       [114.  ,   2.57],\n",
              "       [ 55.  ,   2.48],\n",
              "       [ 56.  ,   2.43],\n",
              "       [ 36.  ,   2.39],\n",
              "       [ 45.  ,   2.38],\n",
              "       [ 53.  ,   2.29],\n",
              "       [ 58.  ,   2.19],\n",
              "       [ 43.  ,   2.18],\n",
              "       [106.  ,   2.1 ],\n",
              "       [ 58.  ,   2.04],\n",
              "       [117.  ,   1.94],\n",
              "       [ 88.  ,   1.64],\n",
              "       [ 65.  ,   1.56],\n",
              "       [ 85.  ,   1.53],\n",
              "       [103.  ,   1.52],\n",
              "       [117.  ,   1.42],\n",
              "       [ 75.  ,   1.41],\n",
              "       [ 55.  ,   1.28],\n",
              "       [ 90.  ,   1.11],\n",
              "       [ 95.  ,   1.02],\n",
              "       [ 95.  ,   0.96],\n",
              "       [ 38.  ,   0.81],\n",
              "       [ 52.  ,   0.79],\n",
              "       [104.  ,   0.63],\n",
              "       [ 64.  ,   0.56],\n",
              "       [ 75.  ,   0.5 ]])"
            ]
          },
          "metadata": {},
          "execution_count": 28
        }
      ]
    },
    {
      "cell_type": "markdown",
      "source": [
        "# Task 5"
      ],
      "metadata": {
        "id": "CQtqHEI8qhZf"
      }
    },
    {
      "cell_type": "code",
      "source": [
        "categories = np.where(delivery_times <= 60, 'A', np.where(delivery_times <= 90, 'B', 'C'))\n",
        "categories = categories[:, np.newaxis]\n",
        "data_with_categories = np.column_stack((data, categories))\n",
        "\n",
        "AvgWeight_A = np.mean(package_weights[delivery_times <= 60])\n",
        "AvgWeight_B = np.mean(package_weights[(delivery_times > 60) & (delivery_times <= 90)])\n",
        "AvgWeight_C = np.mean(package_weights[delivery_times > 90])\n",
        "\n",
        "AvgWeight_A, AvgWeight_B, AvgWeight_C\n",
        "\n"
      ],
      "metadata": {
        "colab": {
          "base_uri": "https://localhost:8080/"
        },
        "id": "snjAH82jqjI1",
        "outputId": "87d89377-13fa-42bb-93d2-339f47b55503"
      },
      "execution_count": 29,
      "outputs": [
        {
          "output_type": "execute_result",
          "data": {
            "text/plain": [
              "(5.080833333333334, 4.6912, 5.556153846153846)"
            ]
          },
          "metadata": {},
          "execution_count": 29
        }
      ]
    },
    {
      "cell_type": "markdown",
      "source": [
        "#Insights"
      ],
      "metadata": {
        "id": "kjbiDUHdsM6e"
      }
    },
    {
      "cell_type": "code",
      "source": [
        "Overall_Insights= f\"\"\"\n",
        "1. Average package weight per category:\n",
        "   - Category A (<=60 min): {AvgWeight_A:.2f} kg\n",
        "   - Category B (61-90 min): {AvgWeight_B:.2f} kg\n",
        "   - Category C (>90 min): {AvgWeight_C:.2f} kg\n",
        "\n",
        "2. There are {len(heavy_packages)} heavy packages (weight > 5 kg), and {heavy_fast_count} were delivered in 60 minutes or less.\n",
        "\n",
        "3. The minimum weight is {min_weight:.2f} kg and mean weight is {mean_weight:.2f} kg.\"\"\"\n",
        "\n",
        "print(\" \".join(Overall_Insights.splitlines()))"
      ],
      "metadata": {
        "colab": {
          "base_uri": "https://localhost:8080/"
        },
        "id": "ffd95Gz2sPK9",
        "outputId": "65f1908e-7806-48a8-bf1f-7c9ce7b0d1db"
      },
      "execution_count": 38,
      "outputs": [
        {
          "output_type": "stream",
          "name": "stdout",
          "text": [
            " 1. Average package weight per category:    - Category A (<=60 min): 5.08 kg    - Category B (61-90 min): 4.69 kg    - Category C (>90 min): 5.56 kg  2. There are 50 heavy packages (weight > 5 kg), and 18 were delivered in 60 minutes or less.  3. The minimum weight is 0.50  and mean weight is 5.17\n"
          ]
        }
      ]
    }
  ]
}