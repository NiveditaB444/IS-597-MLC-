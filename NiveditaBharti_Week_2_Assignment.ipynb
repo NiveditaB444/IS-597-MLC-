{
  "cells": [
    {
      "cell_type": "markdown",
      "metadata": {
        "id": "view-in-github",
        "colab_type": "text"
      },
      "source": [
        "<a href=\"https://colab.research.google.com/github/NiveditaB444/IS-597-MLC-/blob/main/NiveditaBharti_Week_2_Assignment.ipynb\" target=\"_parent\"><img src=\"https://colab.research.google.com/assets/colab-badge.svg\" alt=\"Open In Colab\"/></a>"
      ]
    },
    {
      "cell_type": "code",
      "execution_count": null,
      "id": "3e0cefcb-2a52-42c0-ac73-072b0d3cc1c7",
      "metadata": {
        "id": "3e0cefcb-2a52-42c0-ac73-072b0d3cc1c7",
        "outputId": "cd39e206-6fea-4058-c0db-6995586a69e1"
      },
      "outputs": [
        {
          "name": "stdout",
          "output_type": "stream",
          "text": [
            "Hello, Colab!\n"
          ]
        }
      ],
      "source": [
        "print(\"Hello, Colab!\")"
      ]
    },
    {
      "cell_type": "code",
      "execution_count": null,
      "id": "6e9e8d0c-330f-4f82-85a2-ae414385a942",
      "metadata": {
        "id": "6e9e8d0c-330f-4f82-85a2-ae414385a942",
        "outputId": "3c10081a-3dd7-4009-cc2f-a0b61986eeef"
      },
      "outputs": [
        {
          "name": "stdout",
          "output_type": "stream",
          "text": [
            "[1, 2, 3, 4, 5, 6, 7, 8, 9]\n"
          ]
        }
      ],
      "source": [
        "OneToTen= list(range(1,10))\n",
        "print(OneToTen)"
      ]
    },
    {
      "cell_type": "code",
      "execution_count": null,
      "id": "fb60e419-9d9e-4e02-a012-01b78817509c",
      "metadata": {
        "id": "fb60e419-9d9e-4e02-a012-01b78817509c"
      },
      "outputs": [],
      "source": []
    }
  ],
  "metadata": {
    "kernelspec": {
      "display_name": "Python [conda env:base] *",
      "language": "python",
      "name": "conda-base-py"
    },
    "language_info": {
      "codemirror_mode": {
        "name": "ipython",
        "version": 3
      },
      "file_extension": ".py",
      "mimetype": "text/x-python",
      "name": "python",
      "nbconvert_exporter": "python",
      "pygments_lexer": "ipython3",
      "version": "3.12.7"
    },
    "colab": {
      "provenance": [],
      "include_colab_link": true
    }
  },
  "nbformat": 4,
  "nbformat_minor": 5
}